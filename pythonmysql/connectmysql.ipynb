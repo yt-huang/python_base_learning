{
 "cells": [
  {
   "metadata": {},
   "cell_type": "code",
   "outputs": [],
   "execution_count": null,
   "source": "# 参考资料：https://docs.pingcode.com/ask/ask-ask/1168338.html",
   "id": "907d821bc558372b"
  },
  {
   "cell_type": "code",
   "id": "initial_id",
   "metadata": {
    "collapsed": true,
    "ExecuteTime": {
     "end_time": "2025-03-09T07:46:59.444220Z",
     "start_time": "2025-03-09T07:46:59.411306Z"
    }
   },
   "source": [
    "# 以 mysql-connector-python 为例\n",
    "from mysql.connector import connect\n",
    "\n",
    "conn = connect(\n",
    "    host='localhost',\n",
    "    port=6666,  # 默认MySQL端口为3306，请确认你的端口号\n",
    "    user='root',\n",
    "    password='root',\n",
    "    database='test',\n",
    "    charset='utf8mb4',  # 推荐使用 utf8mb4\n",
    "    auth_plugin='mysql_native_password'  # 关键参数\n",
    ")\n",
    "print(conn)\n",
    "create_table_query = \"\"\"\n",
    "CREATE TABLE employees (\n",
    "    id INT AUTO_INCREMENT PRIMARY KEY,\n",
    "\n",
    "    name VARCHAR(255) NOT NULL,\n",
    "\n",
    "    department VARCHAR(255) NOT NULL,\n",
    "\n",
    "    salary DECIMAL(10, 2) NOT NULL\n",
    ")\n",
    "\n",
    "\"\"\"\n",
    "cursor = conn.cursor()\n",
    "cursor.execute(create_table_query)"
   ],
   "outputs": [
    {
     "name": "stdout",
     "output_type": "stream",
     "text": [
      "<mysql.connector.connection_cext.CMySQLConnection object at 0x1069e79d0>\n"
     ]
    }
   ],
   "execution_count": 11
  },
  {
   "metadata": {
    "ExecuteTime": {
     "end_time": "2025-03-09T08:03:11.331033Z",
     "start_time": "2025-03-09T08:03:11.280499Z"
    }
   },
   "cell_type": "code",
   "source": [
    "from mysql.connector import connect\n",
    "\n",
    "conn = connect(\n",
    "    host='localhost',\n",
    "    port=6666,  # 默认MySQL端口为3306，请确认你的端口号\n",
    "    user='root',\n",
    "    password='root',\n",
    "    database='test',\n",
    "    charset='utf8mb4',  # 推荐使用 utf8mb4\n",
    "    auth_plugin='mysql_native_password'  # 关键参数\n",
    ")\n",
    "print(conn)\n",
    "cursor = conn.cursor()\n",
    "insertquery = \"insert into employees (name,department,salary) values (%s,%s,%s)\"\n",
    "datas = [\n",
    "    ('张三', 'IT', 5000),\n",
    "    ('李四', '财务', 3000),\n",
    "    ('王五', '销售', 4000),\n",
    "    ('赵六', '市场', 3500),\n",
    "    ('钱七', '人事', 4500),\n",
    "    ('孙八', '行政', 2500),\n",
    "    ('周九', '技术', 5500),\n",
    "    ('吴十', '市场', 3500),\n",
    "    ('郑十一', '人事', 4500),\n",
    "    ('王十二','行政', 2500),\n",
    "]\n",
    "for data in datas:\n",
    "    cursor.execute(insertquery,data)\n",
    "cursor.executemany(insertquery,datas)\n",
    "conn.commit()\n",
    "conn.close()\n"
   ],
   "id": "2349e0329f35fdca",
   "outputs": [
    {
     "name": "stdout",
     "output_type": "stream",
     "text": [
      "<mysql.connector.connection_cext.CMySQLConnection object at 0x108928b90>\n"
     ]
    }
   ],
   "execution_count": 25
  },
  {
   "metadata": {
    "ExecuteTime": {
     "end_time": "2025-03-09T07:51:48.931832Z",
     "start_time": "2025-03-09T07:51:48.916750Z"
    }
   },
   "cell_type": "code",
   "source": [
    "from mysql.connector import connect\n",
    "\n",
    "conn = connect(\n",
    "    host='localhost',\n",
    "    port=6666,  # 默认MySQL端口为3306，请确认你的端口号\n",
    "    user='root',\n",
    "    password='root',\n",
    "    database='test',\n",
    "    charset='utf8mb4',  # 推荐使用 utf8mb4\n",
    "    auth_plugin='mysql_native_password'  # 关键参数\n",
    ")\n",
    "print(conn)\n",
    "cursor = conn.cursor()\n",
    "query = \"select * from employees\"\n",
    "aa = cursor.execute(query)\n",
    "result = cursor.fetchall()\n",
    "for row in result:\n",
    "    print(row)"
   ],
   "id": "5384cbde2ead0464",
   "outputs": [
    {
     "name": "stdout",
     "output_type": "stream",
     "text": [
      "<mysql.connector.connection_cext.CMySQLConnection object at 0x10886bc50>\n",
      "(1, '张三', 'IT', Decimal('5000.00'))\n",
      "(2, '李四', '财务', Decimal('3000.00'))\n",
      "(3, '王五', '销售', Decimal('4000.00'))\n",
      "(4, '赵六', '市场', Decimal('3500.00'))\n",
      "(5, '钱七', '人事', Decimal('4500.00'))\n",
      "(6, '孙八', '行政', Decimal('2500.00'))\n",
      "(7, '周九', '技术', Decimal('5500.00'))\n",
      "(8, '吴十', '市场', Decimal('3500.00'))\n",
      "(9, '郑十一', '人事', Decimal('4500.00'))\n",
      "(10, '王十二', '行政', Decimal('2500.00'))\n"
     ]
    }
   ],
   "execution_count": 21
  },
  {
   "metadata": {
    "ExecuteTime": {
     "end_time": "2025-03-09T07:54:20.436071Z",
     "start_time": "2025-03-09T07:54:20.419878Z"
    }
   },
   "cell_type": "code",
   "source": [
    "from mysql.connector import connect\n",
    "\n",
    "conn = connect(\n",
    "    host='localhost',\n",
    "    port=6666,  # 默认MySQL端口为3306，请确认你的端口号\n",
    "    user='root',\n",
    "    password='root',\n",
    "    database='test',\n",
    "    charset='utf8mb4',  # 推荐使用 utf8mb4\n",
    "    auth_plugin='mysql_native_password'  # 关键参数\n",
    ")\n",
    "print(conn)\n",
    "cursor = conn.cursor()\n",
    "update_query = \"update employees set salary = %s where name = %s\"\n",
    "update_data = (1000000,'王十二')\n",
    "cursor.execute(update_query,update_data)\n",
    "conn.commit()\n",
    "conn.close()\n",
    "print(cursor.rowcount,'record(s) affected')"
   ],
   "id": "7cbcc8bac32404e",
   "outputs": [
    {
     "name": "stdout",
     "output_type": "stream",
     "text": [
      "<mysql.connector.connection_cext.CMySQLConnection object at 0x10886bed0>\n",
      "1 record(s) affected\n"
     ]
    }
   ],
   "execution_count": 22
  },
  {
   "metadata": {
    "ExecuteTime": {
     "end_time": "2025-03-09T07:57:47.532680Z",
     "start_time": "2025-03-09T07:57:47.513070Z"
    }
   },
   "cell_type": "code",
   "source": [
    "from mysql.connector import connect\n",
    "\n",
    "conn = connect(\n",
    "    host='localhost',\n",
    "    port=6666,  # 默认MySQL端口为3306，请确认你的端口号\n",
    "    user='root',\n",
    "    password='root',\n",
    "    database='test',\n",
    "    charset='utf8mb4',  # 推荐使用 utf8mb4\n",
    "    auth_plugin='mysql_native_password'  # 关键参数\n",
    ")\n",
    "print(conn)\n",
    "cursor = conn.cursor()\n",
    "delete_query = \"delete from employees where name = %s\"\n",
    "delete_data = ('周九',)\n",
    "cursor.execute(delete_query,delete_data)\n",
    "conn.commit()\n",
    "conn.close()\n",
    "print(cursor.rowcount,'record(s) affected')"
   ],
   "id": "e1199b5b508ed5cf",
   "outputs": [
    {
     "name": "stdout",
     "output_type": "stream",
     "text": [
      "<mysql.connector.connection_cext.CMySQLConnection object at 0x108928410>\n",
      "1 record(s) affected\n"
     ]
    }
   ],
   "execution_count": 24
  }
 ],
 "metadata": {
  "kernelspec": {
   "display_name": "Python 3",
   "language": "python",
   "name": "python3"
  },
  "language_info": {
   "codemirror_mode": {
    "name": "ipython",
    "version": 2
   },
   "file_extension": ".py",
   "mimetype": "text/x-python",
   "name": "python",
   "nbconvert_exporter": "python",
   "pygments_lexer": "ipython2",
   "version": "2.7.6"
  }
 },
 "nbformat": 4,
 "nbformat_minor": 5
}
