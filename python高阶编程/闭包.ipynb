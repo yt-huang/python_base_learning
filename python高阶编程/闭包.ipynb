{
 "cells": [
  {
   "cell_type": "code",
   "id": "initial_id",
   "metadata": {
    "collapsed": true,
    "ExecuteTime": {
     "end_time": "2025-03-09T06:13:17.063337Z",
     "start_time": "2025-03-09T06:13:17.056676Z"
    }
   },
   "source": [
    "def func_a(number_a): #高阶函数,返回一个函数\n",
    "    def func_b(number_b):\n",
    "        print(number_a)\n",
    "        print(number_b)\n",
    "        return number_a + number_b\n",
    "    return func_b\n",
    "result = func_a(10)\n",
    "\n",
    "print(result(10))\n",
    "print(result(90))"
   ],
   "outputs": [
    {
     "name": "stdout",
     "output_type": "stream",
     "text": [
      "10\n",
      "10\n",
      "20\n",
      "10\n",
      "90\n",
      "100\n"
     ]
    }
   ],
   "execution_count": 3
  },
  {
   "metadata": {
    "ExecuteTime": {
     "end_time": "2025-03-09T06:32:12.396225Z",
     "start_time": "2025-03-09T06:32:12.390375Z"
    }
   },
   "cell_type": "code",
   "source": [
    "def create_line(a,b):\n",
    "    def line(x):\n",
    "        return a*x+b\n",
    "    return line\n",
    "l1 = create_line(2,2)\n",
    "l2 = create_line(1.5,-2)\n",
    "print(l1)\n",
    "print(l2)\n",
    "print(l2(5))\n",
    "\n",
    "def test1():\n",
    "    c = 1\n",
    "    def test2():\n",
    "        # nonlocal c\n",
    "        print(c)\n",
    "        return c\n",
    "    return test2\n",
    "\n",
    "print(test1()())\n",
    "\n",
    "# 闭包的陷阱\n",
    "def a():\n",
    "    list1 = []\n",
    "    for i in range(1,4):\n",
    "        def b(_i = i):\n",
    "            return _i**2\n",
    "        list1.append(b)\n",
    "    return list1\n",
    "print(a()[0]())\n",
    "print(a()[1]())\n",
    "print(a()[2]())\n"
   ],
   "id": "68fc3843af82afc7",
   "outputs": [
    {
     "name": "stdout",
     "output_type": "stream",
     "text": [
      "<function create_line.<locals>.line at 0x106706520>\n",
      "<function create_line.<locals>.line at 0x106706480>\n",
      "5.5\n",
      "1\n",
      "1\n",
      "1\n",
      "4\n",
      "9\n"
     ]
    }
   ],
   "execution_count": 17
  }
 ],
 "metadata": {
  "kernelspec": {
   "display_name": "Python 3",
   "language": "python",
   "name": "python3"
  },
  "language_info": {
   "codemirror_mode": {
    "name": "ipython",
    "version": 2
   },
   "file_extension": ".py",
   "mimetype": "text/x-python",
   "name": "python",
   "nbconvert_exporter": "python",
   "pygments_lexer": "ipython2",
   "version": "2.7.6"
  }
 },
 "nbformat": 4,
 "nbformat_minor": 5
}
