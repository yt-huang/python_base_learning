{
 "cells": [
  {
   "cell_type": "code",
   "id": "initial_id",
   "metadata": {
    "collapsed": true,
    "ExecuteTime": {
     "end_time": "2025-03-09T05:05:59.523289Z",
     "start_time": "2025-03-09T05:05:59.519059Z"
    }
   },
   "source": [
    "from faker.contrib.pytest.plugin import faker\n",
    "from nbformat.sign import yield_everything\n",
    "\n",
    "func = lambda x,y :x+y\n",
    "print(func(1,2))"
   ],
   "outputs": [
    {
     "name": "stdout",
     "output_type": "stream",
     "text": [
      "3\n"
     ]
    }
   ],
   "execution_count": 2
  },
  {
   "metadata": {},
   "cell_type": "markdown",
   "source": "",
   "id": "48a70ef5522eccb5"
  },
  {
   "metadata": {
    "ExecuteTime": {
     "end_time": "2025-03-09T05:11:07.509615Z",
     "start_time": "2025-03-09T05:11:07.506203Z"
    }
   },
   "cell_type": "code",
   "source": [
    "# map的高阶函数，可迭代对象中的元素转换成一个新的元素，最后返回一个新的对象\n",
    "list1 = [1,2,3,4,5]\n",
    "ite1 = map(lambda x:x**2,list1)\n",
    "print(ite1.__next__())\n",
    "print(ite1.__next__())\n",
    "print(ite1.__next__())\n",
    "print(ite1.__next__())\n",
    "print(ite1.__next__())"
   ],
   "id": "61e07b023dc00203",
   "outputs": [
    {
     "name": "stdout",
     "output_type": "stream",
     "text": [
      "1\n",
      "4\n",
      "9\n",
      "16\n",
      "25\n"
     ]
    }
   ],
   "execution_count": 5
  },
  {
   "metadata": {
    "ExecuteTime": {
     "end_time": "2025-03-09T05:20:03.877908Z",
     "start_time": "2025-03-09T05:20:03.874789Z"
    }
   },
   "cell_type": "code",
   "source": [
    "# reduce测试 吧一个可迭代中的每一个元素做聚合处理，最后返回一个聚合的值\n",
    "from functools import reduce\n",
    "def Test1(time):\n",
    "    return reduce(lambda x,y:x+y,time)\n",
    "Test1([1,2,3,4,5])\n",
    "\n",
    "def getMax(x,y):\n",
    "    return x if x>y else y\n",
    "list1 = [1,2,4,54,5]\n",
    "print(reduce(getMax,list1))\n"
   ],
   "id": "6f779577459c1f39",
   "outputs": [
    {
     "name": "stdout",
     "output_type": "stream",
     "text": [
      "54\n"
     ]
    }
   ],
   "execution_count": 8
  },
  {
   "metadata": {},
   "cell_type": "markdown",
   "source": "",
   "id": "4c7c86f8d92f4fb0"
  },
  {
   "metadata": {
    "ExecuteTime": {
     "end_time": "2025-03-09T05:29:33.996705Z",
     "start_time": "2025-03-09T05:29:33.991698Z"
    }
   },
   "cell_type": "code",
   "source": [
    "# filter函数吧可迭代对象的元素进行过滤\n",
    "def Test1(listTest):\n",
    "    return filter(lambda x:x%2==0,listTest)\n",
    "aa = Test1([1,2,3,4,5,6,7,8,9,10])\n",
    "print(aa.__next__())\n",
    "print(aa.__next__())\n",
    "print(aa.__next__())\n",
    "print(aa.__next__())\n",
    "print(aa.__next__())\n",
    "# 生成一个emp的列表数据集 包括名字，年龄，工资\n",
    "emp = [\n",
    "    {'name':'zhangsan','age':12,'salary':10000},\n",
    "    {'name':'lisi','age':19,'salary':20000},\n",
    "    {'name':'wangwu','age':20,'salary':30000},\n",
    "    {'name':'zhaoliu','age':21,'salary':40000},\n",
    "]\n",
    "test = list(filter(lambda x:x['age']>18,emp))\n",
    "test1 = list(filter(lambda x:x['salary']>30000,emp))\n",
    "print(test)\n",
    "print(test1)\n",
    "\n",
    "#max min\n",
    "print(max(emp,key=lambda x:x['salary']))\n",
    "print(min(emp,key=lambda x:x['salary']))\n"
   ],
   "id": "80331f4db45aeb26",
   "outputs": [
    {
     "name": "stdout",
     "output_type": "stream",
     "text": [
      "2\n",
      "4\n",
      "6\n",
      "8\n",
      "10\n",
      "[{'name': 'lisi', 'age': 19, 'salary': 20000}, {'name': 'wangwu', 'age': 20, 'salary': 30000}, {'name': 'zhaoliu', 'age': 21, 'salary': 40000}]\n",
      "[{'name': 'zhaoliu', 'age': 21, 'salary': 40000}]\n",
      "{'name': 'zhaoliu', 'age': 21, 'salary': 40000}\n",
      "{'name': 'zhangsan', 'age': 12, 'salary': 10000}\n"
     ]
    }
   ],
   "execution_count": 21
  },
  {
   "metadata": {
    "ExecuteTime": {
     "end_time": "2025-03-09T05:32:23.529707Z",
     "start_time": "2025-03-09T05:32:23.524120Z"
    }
   },
   "cell_type": "code",
   "source": [
    "# sort 排序把一个可迭代对象做排序，返回的是一个列表\n",
    "emp = [\n",
    "    {'name':'zhangsan','age':12,'salary':10000},\n",
    "    {'name':'lisi','age':19,'salary':20000},\n",
    "    {'name':'wangwu','age':20,'salary':30000},\n",
    "    {'name':'zhaoliu','age':21,'salary':40000},\n",
    "]\n",
    "# 根据员工的年龄降序排序\n",
    "sorted(emp,key=lambda x:x['age'],reverse=True)\n"
   ],
   "id": "9eaa65ff4b2bfc8f",
   "outputs": [
    {
     "data": {
      "text/plain": [
       "[{'name': 'zhaoliu', 'age': 21, 'salary': 40000},\n",
       " {'name': 'wangwu', 'age': 20, 'salary': 30000},\n",
       " {'name': 'lisi', 'age': 19, 'salary': 20000},\n",
       " {'name': 'zhangsan', 'age': 12, 'salary': 10000}]"
      ]
     },
     "execution_count": 24,
     "metadata": {},
     "output_type": "execute_result"
    }
   ],
   "execution_count": 24
  },
  {
   "metadata": {
    "ExecuteTime": {
     "end_time": "2025-03-09T05:37:24.319530Z",
     "start_time": "2025-03-09T05:37:24.316724Z"
    }
   },
   "cell_type": "code",
   "source": [
    "# 返回函数的高阶函数\n",
    "def getSum(*args):\n",
    "    def tt(): #定义函数\n",
    "        sum = 0\n",
    "        for n in args:\n",
    "            sum += n\n",
    "        return sum # 返回定义函数的计算值\n",
    "    return tt #返回函数\n",
    "f1 = getSum(1,2,3,4,5)\n",
    "print(f1()) #调用函数\n",
    "print(f1) # 打印函数"
   ],
   "id": "75108217f8e650d9",
   "outputs": [
    {
     "name": "stdout",
     "output_type": "stream",
     "text": [
      "15\n",
      "<function getSum.<locals>.tt at 0x107404cc0>\n"
     ]
    }
   ],
   "execution_count": 28
  },
  {
   "metadata": {
    "ExecuteTime": {
     "end_time": "2025-03-09T06:08:15.407354Z",
     "start_time": "2025-03-09T06:08:15.402505Z"
    }
   },
   "cell_type": "code",
   "source": [
    "# 测试需求，得到小于100的质数\n",
    "def getPrime(n):\n",
    "    def isPrime(n):\n",
    "        for i in range(2,n):\n",
    "            if n%i==0:\n",
    "                return False\n",
    "        return True\n",
    "    return list(filter(isPrime,range(2,n)))\n",
    "\n",
    "getPrime(100)\n",
    "\n",
    "def old_num():\n",
    "    n = 1\n",
    "    while True:\n",
    "        n += 2\n",
    "        yield n\n",
    "aa = old_num()\n",
    "\n",
    "def my_filter(n):\n",
    "    return lambda x:x%n > 0\n",
    "def tt():\n",
    "    yield 2\n",
    "    g = old_num() #得到大于1的奇数\n",
    "    while True:\n",
    "        x = next(g) #拿到一个奇数\n",
    "        g = filter(my_filter(x),g) #过滤之后再赋值给g\n",
    "        print('g:',next(g))\n",
    "        print('g:',next(g))\n",
    "        yield x\n",
    "for n in tt():\n",
    "    if n > 100:\n",
    "        break\n",
    "    print(n)\n",
    "\n",
    "\n"
   ],
   "id": "45724a60870a6254",
   "outputs": [
    {
     "name": "stdout",
     "output_type": "stream",
     "text": [
      "2\n",
      "g: 5\n",
      "g: 7\n",
      "3\n",
      "g: 13\n",
      "g: 17\n",
      "11\n",
      "g: 23\n",
      "g: 25\n",
      "19\n",
      "g: 31\n",
      "g: 35\n",
      "29\n",
      "g: 41\n",
      "g: 43\n",
      "37\n",
      "g: 49\n",
      "g: 53\n",
      "47\n",
      "g: 61\n",
      "g: 65\n",
      "59\n",
      "g: 71\n",
      "g: 73\n",
      "67\n",
      "g: 83\n",
      "g: 85\n",
      "79\n",
      "g: 91\n",
      "g: 97\n",
      "89\n",
      "g: 103\n",
      "g: 107\n"
     ]
    }
   ],
   "execution_count": 44
  }
 ],
 "metadata": {
  "kernelspec": {
   "display_name": "Python 3",
   "language": "python",
   "name": "python3"
  },
  "language_info": {
   "codemirror_mode": {
    "name": "ipython",
    "version": 2
   },
   "file_extension": ".py",
   "mimetype": "text/x-python",
   "name": "python",
   "nbconvert_exporter": "python",
   "pygments_lexer": "ipython2",
   "version": "2.7.6"
  }
 },
 "nbformat": 4,
 "nbformat_minor": 5
}
