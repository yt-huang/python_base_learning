{
 "cells": [
  {
   "metadata": {},
   "cell_type": "code",
   "outputs": [],
   "execution_count": null,
   "source": "# numpy数组创建的方式\n",
   "id": "14c4394203017306"
  },
  {
   "cell_type": "code",
   "execution_count": 8,
   "id": "573c7f36-5e25-4ffa-b83a-76e8605d9fe1",
   "metadata": {
    "ExecuteTime": {
     "end_time": "2025-03-10T01:54:47.145913Z",
     "start_time": "2025-03-10T01:54:47.142583Z"
    }
   },
   "outputs": [
    {
     "data": {
      "text/plain": [
       "array([2, 3])"
      ]
     },
     "execution_count": 8,
     "metadata": {},
     "output_type": "execute_result"
    }
   ],
   "source": [
    "import numpy as np\n",
    "from numpy.ma.core import shape\n",
    "\n",
    "l = [1,2,3,4,5]\n",
    "arr = np.array(l)\n",
    "arr[[1,2]] # numpy取出多个数据直接通过对应的数组下标获取"
   ]
  },
  {
   "cell_type": "code",
   "execution_count": 17,
   "id": "375470eef080a0e",
   "metadata": {
    "ExecuteTime": {
     "end_time": "2025-03-10T01:57:10.417039Z",
     "start_time": "2025-03-10T01:57:10.414730Z"
    }
   },
   "outputs": [
    {
     "name": "stdout",
     "output_type": "stream",
     "text": [
      "[False False  True  True  True]\n"
     ]
    },
    {
     "data": {
      "text/plain": [
       "array([3, 4, 5])"
      ]
     },
     "execution_count": 17,
     "metadata": {},
     "output_type": "execute_result"
    }
   ],
   "source": [
    "con = arr >= 3 #取出大于3的数据\n",
    "print(con) #把大于等于3的数条件进行筛选\n",
    "arr[con]"
   ]
  },
  {
   "cell_type": "code",
   "execution_count": 22,
   "id": "e6489fdc0db2192f",
   "metadata": {
    "ExecuteTime": {
     "end_time": "2025-03-10T02:01:26.124381Z",
     "start_time": "2025-03-10T02:01:26.119222Z"
    }
   },
   "outputs": [
    {
     "data": {
      "text/plain": [
       "array([1., 1., 1., 1., 1., 1., 1., 1., 1., 1.])"
      ]
     },
     "execution_count": 22,
     "metadata": {},
     "output_type": "execute_result"
    }
   ],
   "source": [
    "# arr的不同的创建方式\n",
    "np.ones(shape=10)\n"
   ]
  },
  {
   "cell_type": "markdown",
   "id": "246dd7e2888b9894",
   "metadata": {},
   "source": []
  },
  {
   "cell_type": "code",
   "execution_count": 21,
   "id": "c9e5d5219d068a70",
   "metadata": {
    "ExecuteTime": {
     "end_time": "2025-03-10T02:01:21.376345Z",
     "start_time": "2025-03-10T02:01:21.372713Z"
    }
   },
   "outputs": [
    {
     "data": {
      "text/plain": [
       "array([0., 0., 0., 0., 0., 0., 0., 0., 0., 0.])"
      ]
     },
     "execution_count": 21,
     "metadata": {},
     "output_type": "execute_result"
    }
   ],
   "source": [
    "np.zeros(shape=10)"
   ]
  },
  {
   "cell_type": "code",
   "execution_count": 23,
   "id": "42cb755f6c5b58b",
   "metadata": {
    "ExecuteTime": {
     "end_time": "2025-03-10T02:01:56.624769Z",
     "start_time": "2025-03-10T02:01:56.621269Z"
    }
   },
   "outputs": [
    {
     "data": {
      "text/plain": [
       "array([5, 5, 5, 5, 5, 5, 5, 5, 5, 5])"
      ]
     },
     "execution_count": 23,
     "metadata": {},
     "output_type": "execute_result"
    }
   ],
   "source": [
    "np.full(shape=10,fill_value=3.14)"
   ]
  },
  {
   "cell_type": "code",
   "execution_count": 24,
   "id": "a62e64a9db50f6a2",
   "metadata": {
    "ExecuteTime": {
     "end_time": "2025-03-10T02:02:24.173845Z",
     "start_time": "2025-03-10T02:02:24.021827Z"
    }
   },
   "outputs": [
    {
     "data": {
      "text/plain": [
       "array([0, 9, 0, 0, 1, 7, 2, 5, 9, 7])"
      ]
     },
     "execution_count": 24,
     "metadata": {},
     "output_type": "execute_result"
    }
   ],
   "source": [
    "np.random.randint(low=0,high=10,size=10)"
   ]
  },
  {
   "cell_type": "code",
   "execution_count": 31,
   "id": "f3faa87ac4be849e",
   "metadata": {
    "ExecuteTime": {
     "end_time": "2025-03-10T02:02:58.283272Z",
     "start_time": "2025-03-10T02:02:58.280240Z"
    }
   },
   "outputs": [
    {
     "data": {
      "text/plain": [
       "array([-0.98278957, -0.94120442, -1.48655712,  1.49862247, -0.31417352,\n",
       "        0.28229512,  0.11584674,  0.53908877,  0.85498834, -0.17594301])"
      ]
     },
     "execution_count": 31,
     "metadata": {},
     "output_type": "execute_result"
    }
   ],
   "source": [
    "np.random.randn(10) #正太分布 平均值0 标准差1"
   ]
  },
  {
   "cell_type": "code",
   "execution_count": 34,
   "id": "4f233f47b6e8a71c",
   "metadata": {
    "ExecuteTime": {
     "end_time": "2025-03-10T02:04:44.249939Z",
     "start_time": "2025-03-10T02:04:44.246126Z"
    }
   },
   "outputs": [
    {
     "data": {
      "text/plain": [
       "array([ 1.,  3.,  5.,  7.,  9., 11., 13., 15., 17., 19., 21., 23., 25.,\n",
       "       27., 29., 31., 33., 35., 37., 39., 41., 43., 45., 47., 49., 51.,\n",
       "       53., 55., 57., 59., 61., 63., 65., 67., 69., 71., 73., 75., 77.,\n",
       "       79., 81., 83., 85., 87., 89., 91., 93., 95., 97., 99.])"
      ]
     },
     "execution_count": 34,
     "metadata": {},
     "output_type": "execute_result"
    }
   ],
   "source": [
    "np.linspace(1,99,50) #等差数列"
   ]
  },
  {
   "cell_type": "code",
   "id": "c609cbf9acf58d3c",
   "metadata": {
    "ExecuteTime": {
     "end_time": "2025-03-10T05:49:17.021190Z",
     "start_time": "2025-03-10T05:49:17.015373Z"
    }
   },
   "source": [
    "# 等比数列\n",
    "np.set_printoptions(suppress=True) #不显示科学技术发\n",
    "np.logspace(0,10,base=2,num=11)\n"
   ],
   "outputs": [
    {
     "data": {
      "text/plain": [
       "array([   1.,    2.,    4.,    8.,   16.,   32.,   64.,  128.,  256.,\n",
       "        512., 1024.])"
      ]
     },
     "execution_count": 112,
     "metadata": {},
     "output_type": "execute_result"
    }
   ],
   "execution_count": 112
  },
  {
   "cell_type": "code",
   "execution_count": 51,
   "id": "6ee2e66164b81468",
   "metadata": {
    "ExecuteTime": {
     "end_time": "2025-03-10T02:11:29.183491Z",
     "start_time": "2025-03-10T02:11:29.179855Z"
    }
   },
   "outputs": [
    {
     "data": {
      "text/plain": [
       "array([[2, 4, 2, 3],\n",
       "       [3, 2, 7, 9],\n",
       "       [2, 5, 0, 3]])"
      ]
     },
     "execution_count": 51,
     "metadata": {},
     "output_type": "execute_result"
    }
   ],
   "source": [
    "np.random.randint(low=0,high=10,size=(3,4)) #二维数组"
   ]
  },
  {
   "cell_type": "code",
   "execution_count": 50,
   "id": "b8434f925289cd0",
   "metadata": {
    "ExecuteTime": {
     "end_time": "2025-03-10T02:11:21.379980Z",
     "start_time": "2025-03-10T02:11:21.376373Z"
    }
   },
   "outputs": [
    {
     "data": {
      "text/plain": [
       "array([[[6, 5, 4, 3, 9],\n",
       "        [7, 5, 1, 3, 9],\n",
       "        [9, 1, 2, 8, 9],\n",
       "        [3, 5, 6, 5, 4]],\n",
       "\n",
       "       [[0, 5, 5, 6, 7],\n",
       "        [8, 6, 1, 9, 8],\n",
       "        [4, 9, 8, 0, 8],\n",
       "        [7, 1, 2, 0, 2]],\n",
       "\n",
       "       [[3, 1, 9, 6, 8],\n",
       "        [3, 9, 5, 9, 7],\n",
       "        [9, 2, 5, 9, 5],\n",
       "        [4, 4, 0, 4, 5]]])"
      ]
     },
     "execution_count": 50,
     "metadata": {},
     "output_type": "execute_result"
    }
   ],
   "source": [
    "np.random.randint(low=0,high=10,size=(3,4,5)) #三维数组"
   ]
  },
  {
   "cell_type": "code",
   "execution_count": 2,
   "id": "2429194eb2c2e87f",
   "metadata": {
    "ExecuteTime": {
     "end_time": "2025-03-10T02:21:23.763985Z",
     "start_time": "2025-03-10T02:21:23.719237Z"
    }
   },
   "outputs": [
    {
     "data": {
      "text/plain": [
       "array([0, 2, 4, 6, 8])"
      ]
     },
     "execution_count": 2,
     "metadata": {},
     "output_type": "execute_result"
    }
   ],
   "source": [
    "import numpy as np\n",
    "np.arange(0,10,2)"
   ]
  },
  {
   "cell_type": "markdown",
   "id": "5e44cad1562b10f9",
   "metadata": {},
   "source": []
  },
  {
   "cell_type": "code",
   "id": "ba2a511ca63807ad",
   "metadata": {
    "ExecuteTime": {
     "end_time": "2025-03-10T02:37:28.830233Z",
     "start_time": "2025-03-10T02:37:28.822229Z"
    }
   },
   "source": [
    "import numpy as np\n",
    "arr = np.random.random(size=(3,5))\n",
    "arr.shape #数组的维度\n"
   ],
   "outputs": [
    {
     "data": {
      "text/plain": [
       "(3, 5)"
      ]
     },
     "execution_count": 13,
     "metadata": {},
     "output_type": "execute_result"
    }
   ],
   "execution_count": 13
  },
  {
   "metadata": {
    "ExecuteTime": {
     "end_time": "2025-03-10T02:29:51.918088Z",
     "start_time": "2025-03-10T02:29:51.913851Z"
    }
   },
   "cell_type": "code",
   "source": "arr.dtype #数据类型",
   "id": "424676d8ef2a6eb8",
   "outputs": [
    {
     "data": {
      "text/plain": [
       "dtype('float64')"
      ]
     },
     "execution_count": 10,
     "metadata": {},
     "output_type": "execute_result"
    }
   ],
   "execution_count": 10
  },
  {
   "metadata": {
    "ExecuteTime": {
     "end_time": "2025-03-10T02:29:50.739653Z",
     "start_time": "2025-03-10T02:29:50.736326Z"
    }
   },
   "cell_type": "code",
   "source": "arr.ndim #纬度",
   "id": "29e49b2c8e060e3c",
   "outputs": [
    {
     "data": {
      "text/plain": [
       "2"
      ]
     },
     "execution_count": 9,
     "metadata": {},
     "output_type": "execute_result"
    }
   ],
   "execution_count": 9
  },
  {
   "metadata": {},
   "cell_type": "markdown",
   "source": "# 数据查看",
   "id": "f68c1fa3cdc3ffee"
  },
  {
   "metadata": {
    "ExecuteTime": {
     "end_time": "2025-03-10T02:37:36.805151Z",
     "start_time": "2025-03-10T02:37:36.802487Z"
    }
   },
   "cell_type": "code",
   "source": [
    "print(arr.size) #元素个数\n",
    "print(arr.itemsize) #每个元素的大小"
   ],
   "id": "b4c3097f7f05f07a",
   "outputs": [
    {
     "name": "stdout",
     "output_type": "stream",
     "text": [
      "15\n",
      "8\n"
     ]
    }
   ],
   "execution_count": 14
  },
  {
   "metadata": {
    "ExecuteTime": {
     "end_time": "2025-03-10T02:42:38.612937Z",
     "start_time": "2025-03-10T02:42:38.605921Z"
    }
   },
   "cell_type": "code",
   "source": [
    "bb = [i for i in range(0,10,3)]\n",
    "print(bb)\n",
    "arr = np.arange(0,10,3) #创建一个数组等差数列\n",
    "\n",
    "print(arr)\n",
    "np.save('./data1',arr)"
   ],
   "id": "ccd0c26d4c2f4655",
   "outputs": [
    {
     "name": "stdout",
     "output_type": "stream",
     "text": [
      "[0, 3, 6, 9]\n",
      "[0 3 6 9]\n"
     ]
    }
   ],
   "execution_count": 23
  },
  {
   "metadata": {
    "ExecuteTime": {
     "end_time": "2025-03-10T02:43:15.736744Z",
     "start_time": "2025-03-10T02:43:15.734105Z"
    }
   },
   "cell_type": "code",
   "source": [
    "arr2 = np.load('./data1.npy')\n",
    "print(arr2)"
   ],
   "id": "573482017fdc2155",
   "outputs": [
    {
     "name": "stdout",
     "output_type": "stream",
     "text": [
      "[0 3 6 9]\n"
     ]
    }
   ],
   "execution_count": 27
  },
  {
   "metadata": {
    "ExecuteTime": {
     "end_time": "2025-03-10T02:45:49.810130Z",
     "start_time": "2025-03-10T02:45:49.807753Z"
    }
   },
   "cell_type": "code",
   "source": [
    "np.set_printoptions(suppress=True)\n",
    "arr2 = np.logspace(0,10,base=2,num=11)\n",
    "arr2"
   ],
   "id": "88f105eb30396e2b",
   "outputs": [
    {
     "data": {
      "text/plain": [
       "array([   1.,    2.,    4.,    8.,   16.,   32.,   64.,  128.,  256.,\n",
       "        512., 1024.])"
      ]
     },
     "execution_count": 30,
     "metadata": {},
     "output_type": "execute_result"
    }
   ],
   "execution_count": 30
  },
  {
   "metadata": {
    "ExecuteTime": {
     "end_time": "2025-03-10T02:46:25.437868Z",
     "start_time": "2025-03-10T02:46:25.434162Z"
    }
   },
   "cell_type": "code",
   "source": "np.savez('./data2.npz',arr1=arr,arr2=arr2) # 保存多个数组",
   "id": "831982a1b0dd235e",
   "outputs": [],
   "execution_count": 31
  },
  {
   "metadata": {
    "ExecuteTime": {
     "end_time": "2025-03-10T02:47:17.161728Z",
     "start_time": "2025-03-10T02:47:17.158437Z"
    }
   },
   "cell_type": "code",
   "source": [
    "\n",
    "np.load('./data2.npz')['arr1'] #取其中一个数组"
   ],
   "id": "5c6bfbbd5cce208d",
   "outputs": [
    {
     "data": {
      "text/plain": [
       "array([   1.,    2.,    4.,    8.,   16.,   32.,   64.,  128.,  256.,\n",
       "        512., 1024.])"
      ]
     },
     "execution_count": 36,
     "metadata": {},
     "output_type": "execute_result"
    }
   ],
   "execution_count": 36
  },
  {
   "metadata": {},
   "cell_type": "code",
   "outputs": [],
   "execution_count": null,
   "source": "np.load('./data2.npz')['arr2'] #取另外一个数组",
   "id": "f9464845161d82d3"
  },
  {
   "metadata": {},
   "cell_type": "markdown",
   "source": "# 数据类型",
   "id": "8bb3ae7a23db820d"
  },
  {
   "metadata": {
    "ExecuteTime": {
     "end_time": "2025-03-10T02:51:21.914104Z",
     "start_time": "2025-03-10T02:51:21.903674Z"
    }
   },
   "cell_type": "code",
   "source": "np.array([1,2,3,4,5],dtype=np.int16)",
   "id": "237f46308030cdee",
   "outputs": [
    {
     "data": {
      "text/plain": [
       "array([1, 2, 3, 4, 5], dtype=int16)"
      ]
     },
     "execution_count": 37,
     "metadata": {},
     "output_type": "execute_result"
    }
   ],
   "execution_count": 37
  },
  {
   "metadata": {
    "ExecuteTime": {
     "end_time": "2025-03-10T02:51:51.713203Z",
     "start_time": "2025-03-10T02:51:51.709767Z"
    }
   },
   "cell_type": "code",
   "source": "np.array([1,2,3,4,5],dtype=np.int32)\n",
   "id": "5dda0ada11f60678",
   "outputs": [
    {
     "data": {
      "text/plain": [
       "array([1, 2, 3, 4, 5], dtype=int32)"
      ]
     },
     "execution_count": 39,
     "metadata": {},
     "output_type": "execute_result"
    }
   ],
   "execution_count": 39
  },
  {
   "metadata": {
    "ExecuteTime": {
     "end_time": "2025-03-10T02:53:43.574213Z",
     "start_time": "2025-03-10T02:53:43.569989Z"
    }
   },
   "cell_type": "code",
   "source": [
    "arr = np.random.randint(low=0,high=100,size=(100,50,30),dtype=np.int8)\n",
    "np.save('./data3.npy',arr)"
   ],
   "id": "de4a447ded3784e1",
   "outputs": [],
   "execution_count": 43
  },
  {
   "metadata": {
    "ExecuteTime": {
     "end_time": "2025-03-10T02:53:44.515804Z",
     "start_time": "2025-03-10T02:53:44.511064Z"
    }
   },
   "cell_type": "code",
   "source": [
    "arr1 = np.random.randint(low=0,high=100,size=(100,50,30),dtype=np.int64)\n",
    "np.save('./data4.npy',arr1)"
   ],
   "id": "900fd0f56e735475",
   "outputs": [],
   "execution_count": 44
  },
  {
   "metadata": {
    "ExecuteTime": {
     "end_time": "2025-03-10T02:54:43.878583Z",
     "start_time": "2025-03-10T02:54:43.874487Z"
    }
   },
   "cell_type": "code",
   "source": [
    "# unit8 无符号的256 0-255\n",
    "arr2 = np.random.randint(low=0,high=100,size=(100,50,30),dtype=np.uint8)\n",
    "arr2"
   ],
   "id": "255460c8acb05ed1",
   "outputs": [
    {
     "data": {
      "text/plain": [
       "array([[[11, 91, 33, ..., 56, 70, 69],\n",
       "        [64, 66, 21, ..., 26, 33, 80],\n",
       "        [43, 51, 71, ..., 64, 35, 85],\n",
       "        ...,\n",
       "        [95, 23, 20, ..., 63, 48,  6],\n",
       "        [19, 94, 87, ..., 14, 36, 59],\n",
       "        [89, 15, 86, ..., 29, 37, 32]],\n",
       "\n",
       "       [[37, 79, 49, ..., 66, 90, 26],\n",
       "        [78, 13, 40, ..., 62, 60, 76],\n",
       "        [60, 62, 24, ..., 47, 55, 14],\n",
       "        ...,\n",
       "        [99, 69, 14, ..., 41,  8, 79],\n",
       "        [32, 30, 85, ..., 51, 18, 69],\n",
       "        [ 3, 57, 89, ..., 48, 99, 27]],\n",
       "\n",
       "       [[33, 32, 61, ..., 87, 38, 48],\n",
       "        [82, 10, 54, ..., 87, 20, 43],\n",
       "        [85, 17, 69, ..., 68, 32, 44],\n",
       "        ...,\n",
       "        [76, 42, 25, ..., 77, 69, 10],\n",
       "        [39, 48, 24, ..., 64, 65,  5],\n",
       "        [68, 29, 63, ...,  5, 63, 18]],\n",
       "\n",
       "       ...,\n",
       "\n",
       "       [[16, 58, 74, ..., 26, 30, 26],\n",
       "        [23, 60, 55, ...,  9, 99, 58],\n",
       "        [77, 17, 12, ..., 19, 81, 25],\n",
       "        ...,\n",
       "        [59, 37, 18, ..., 81, 20,  4],\n",
       "        [72, 41,  0, ..., 61,  3, 57],\n",
       "        [34, 64, 55, ..., 20, 72, 95]],\n",
       "\n",
       "       [[91, 39, 96, ..., 11, 39,  4],\n",
       "        [79, 42, 81, ..., 73, 67, 97],\n",
       "        [33, 78, 62, ...,  8, 82, 80],\n",
       "        ...,\n",
       "        [56, 71, 89, ..., 27, 24, 35],\n",
       "        [83, 79, 96, ..., 91, 28, 58],\n",
       "        [ 7,  8, 50, ..., 50, 27, 71]],\n",
       "\n",
       "       [[26, 97, 79, ..., 33, 34, 97],\n",
       "        [44, 80, 78, ..., 63, 73, 48],\n",
       "        [39, 87, 33, ..., 31, 61, 82],\n",
       "        ...,\n",
       "        [ 7, 45, 64, ..., 29, 35,  7],\n",
       "        [40, 90, 92, ..., 36, 44,  7],\n",
       "        [39, 16, 54, ..., 14, 19, 76]]], shape=(100, 50, 30), dtype=uint8)"
      ]
     },
     "execution_count": 46,
     "metadata": {},
     "output_type": "execute_result"
    }
   ],
   "execution_count": 46
  },
  {
   "metadata": {
    "ExecuteTime": {
     "end_time": "2025-03-10T02:56:52.527121Z",
     "start_time": "2025-03-10T02:56:52.524257Z"
    }
   },
   "cell_type": "code",
   "source": [
    "np.arange(0,128,dtype=np.uint8)\n",
    "np.arange(-128,128,dtype=np.int8)"
   ],
   "id": "136fb6db51b93b34",
   "outputs": [
    {
     "data": {
      "text/plain": [
       "array([-128, -127, -126, -125, -124, -123, -122, -121, -120, -119, -118,\n",
       "       -117, -116, -115, -114, -113, -112, -111, -110, -109, -108, -107,\n",
       "       -106, -105, -104, -103, -102, -101, -100,  -99,  -98,  -97,  -96,\n",
       "        -95,  -94,  -93,  -92,  -91,  -90,  -89,  -88,  -87,  -86,  -85,\n",
       "        -84,  -83,  -82,  -81,  -80,  -79,  -78,  -77,  -76,  -75,  -74,\n",
       "        -73,  -72,  -71,  -70,  -69,  -68,  -67,  -66,  -65,  -64,  -63,\n",
       "        -62,  -61,  -60,  -59,  -58,  -57,  -56,  -55,  -54,  -53,  -52,\n",
       "        -51,  -50,  -49,  -48,  -47,  -46,  -45,  -44,  -43,  -42,  -41,\n",
       "        -40,  -39,  -38,  -37,  -36,  -35,  -34,  -33,  -32,  -31,  -30,\n",
       "        -29,  -28,  -27,  -26,  -25,  -24,  -23,  -22,  -21,  -20,  -19,\n",
       "        -18,  -17,  -16,  -15,  -14,  -13,  -12,  -11,  -10,   -9,   -8,\n",
       "         -7,   -6,   -5,   -4,   -3,   -2,   -1,    0,    1,    2,    3,\n",
       "          4,    5,    6,    7,    8,    9,   10,   11,   12,   13,   14,\n",
       "         15,   16,   17,   18,   19,   20,   21,   22,   23,   24,   25,\n",
       "         26,   27,   28,   29,   30,   31,   32,   33,   34,   35,   36,\n",
       "         37,   38,   39,   40,   41,   42,   43,   44,   45,   46,   47,\n",
       "         48,   49,   50,   51,   52,   53,   54,   55,   56,   57,   58,\n",
       "         59,   60,   61,   62,   63,   64,   65,   66,   67,   68,   69,\n",
       "         70,   71,   72,   73,   74,   75,   76,   77,   78,   79,   80,\n",
       "         81,   82,   83,   84,   85,   86,   87,   88,   89,   90,   91,\n",
       "         92,   93,   94,   95,   96,   97,   98,   99,  100,  101,  102,\n",
       "        103,  104,  105,  106,  107,  108,  109,  110,  111,  112,  113,\n",
       "        114,  115,  116,  117,  118,  119,  120,  121,  122,  123,  124,\n",
       "        125,  126,  127], dtype=int8)"
      ]
     },
     "execution_count": 52,
     "metadata": {},
     "output_type": "execute_result"
    }
   ],
   "execution_count": 52
  },
  {
   "metadata": {
    "ExecuteTime": {
     "end_time": "2025-03-10T02:57:33.516154Z",
     "start_time": "2025-03-10T02:57:33.512604Z"
    }
   },
   "cell_type": "code",
   "source": [
    "# 数据类型转化\n",
    "arr1.astype(np.int16) #转化数据类型"
   ],
   "id": "2f0124ae56e1fd89",
   "outputs": [
    {
     "data": {
      "text/plain": [
       "array([[[59, 52, 72, ..., 75, 51, 31],\n",
       "        [37, 76, 95, ..., 93, 18, 11],\n",
       "        [ 4, 46, 87, ..., 39, 32,  8],\n",
       "        ...,\n",
       "        [73, 17, 74, ..., 80, 75, 57],\n",
       "        [61, 33, 51, ..., 57, 54, 78],\n",
       "        [32, 65,  1, ...,  5,  0, 25]],\n",
       "\n",
       "       [[15, 38, 85, ..., 82, 26, 61],\n",
       "        [55, 59,  0, ..., 23, 85, 34],\n",
       "        [53, 56, 50, ..., 54,  1, 46],\n",
       "        ...,\n",
       "        [37, 64, 10, ..., 85, 91, 89],\n",
       "        [75, 73, 45, ..., 99, 98, 31],\n",
       "        [82, 65, 37, ..., 51,  5, 27]],\n",
       "\n",
       "       [[ 1, 52, 24, ..., 21, 29,  3],\n",
       "        [74, 27, 42, ..., 62, 91, 42],\n",
       "        [99, 53, 55, ...,  3, 83, 58],\n",
       "        ...,\n",
       "        [28, 24,  4, ..., 19, 69,  6],\n",
       "        [47, 96,  6, ..., 63, 27, 83],\n",
       "        [63, 47, 78, ..., 29, 92, 56]],\n",
       "\n",
       "       ...,\n",
       "\n",
       "       [[21, 76, 32, ..., 84, 11,  3],\n",
       "        [83, 50, 85, ..., 73, 27, 95],\n",
       "        [46, 65, 21, ..., 14,  4, 20],\n",
       "        ...,\n",
       "        [25, 44, 31, ..., 16,  4, 24],\n",
       "        [60,  7, 60, ..., 72, 53, 61],\n",
       "        [17, 39, 94, ..., 30, 90, 21]],\n",
       "\n",
       "       [[18, 53, 30, ..., 12,  4, 14],\n",
       "        [67, 43, 54, ..., 38, 93, 22],\n",
       "        [75, 55, 49, ..., 49, 10, 21],\n",
       "        ...,\n",
       "        [30, 84, 11, ..., 30, 12, 14],\n",
       "        [22, 20, 86, ..., 22, 29, 17],\n",
       "        [20, 23,  2, ..., 63, 59, 23]],\n",
       "\n",
       "       [[41, 70, 27, ..., 42,  8, 23],\n",
       "        [97, 81, 59, ..., 58, 22, 33],\n",
       "        [28, 67, 43, ..., 83, 22, 14],\n",
       "        ...,\n",
       "        [74,  9,  5, ..., 66, 40, 88],\n",
       "        [46, 89, 96, ..., 39, 67, 40],\n",
       "        [83, 20, 32, ..., 35, 22, 12]]], shape=(100, 50, 30), dtype=int16)"
      ]
     },
     "execution_count": 53,
     "metadata": {},
     "output_type": "execute_result"
    }
   ],
   "execution_count": 53
  },
  {
   "metadata": {
    "ExecuteTime": {
     "end_time": "2025-03-10T02:57:52.013416Z",
     "start_time": "2025-03-10T02:57:52.009181Z"
    }
   },
   "cell_type": "code",
   "source": "arr1.astype(np.float32)",
   "id": "a193df4de2930d41",
   "outputs": [
    {
     "data": {
      "text/plain": [
       "array([[[59., 52., 72., ..., 75., 51., 31.],\n",
       "        [37., 76., 95., ..., 93., 18., 11.],\n",
       "        [ 4., 46., 87., ..., 39., 32.,  8.],\n",
       "        ...,\n",
       "        [73., 17., 74., ..., 80., 75., 57.],\n",
       "        [61., 33., 51., ..., 57., 54., 78.],\n",
       "        [32., 65.,  1., ...,  5.,  0., 25.]],\n",
       "\n",
       "       [[15., 38., 85., ..., 82., 26., 61.],\n",
       "        [55., 59.,  0., ..., 23., 85., 34.],\n",
       "        [53., 56., 50., ..., 54.,  1., 46.],\n",
       "        ...,\n",
       "        [37., 64., 10., ..., 85., 91., 89.],\n",
       "        [75., 73., 45., ..., 99., 98., 31.],\n",
       "        [82., 65., 37., ..., 51.,  5., 27.]],\n",
       "\n",
       "       [[ 1., 52., 24., ..., 21., 29.,  3.],\n",
       "        [74., 27., 42., ..., 62., 91., 42.],\n",
       "        [99., 53., 55., ...,  3., 83., 58.],\n",
       "        ...,\n",
       "        [28., 24.,  4., ..., 19., 69.,  6.],\n",
       "        [47., 96.,  6., ..., 63., 27., 83.],\n",
       "        [63., 47., 78., ..., 29., 92., 56.]],\n",
       "\n",
       "       ...,\n",
       "\n",
       "       [[21., 76., 32., ..., 84., 11.,  3.],\n",
       "        [83., 50., 85., ..., 73., 27., 95.],\n",
       "        [46., 65., 21., ..., 14.,  4., 20.],\n",
       "        ...,\n",
       "        [25., 44., 31., ..., 16.,  4., 24.],\n",
       "        [60.,  7., 60., ..., 72., 53., 61.],\n",
       "        [17., 39., 94., ..., 30., 90., 21.]],\n",
       "\n",
       "       [[18., 53., 30., ..., 12.,  4., 14.],\n",
       "        [67., 43., 54., ..., 38., 93., 22.],\n",
       "        [75., 55., 49., ..., 49., 10., 21.],\n",
       "        ...,\n",
       "        [30., 84., 11., ..., 30., 12., 14.],\n",
       "        [22., 20., 86., ..., 22., 29., 17.],\n",
       "        [20., 23.,  2., ..., 63., 59., 23.]],\n",
       "\n",
       "       [[41., 70., 27., ..., 42.,  8., 23.],\n",
       "        [97., 81., 59., ..., 58., 22., 33.],\n",
       "        [28., 67., 43., ..., 83., 22., 14.],\n",
       "        ...,\n",
       "        [74.,  9.,  5., ..., 66., 40., 88.],\n",
       "        [46., 89., 96., ..., 39., 67., 40.],\n",
       "        [83., 20., 32., ..., 35., 22., 12.]]],\n",
       "      shape=(100, 50, 30), dtype=float32)"
      ]
     },
     "execution_count": 54,
     "metadata": {},
     "output_type": "execute_result"
    }
   ],
   "execution_count": 54
  },
  {
   "metadata": {},
   "cell_type": "markdown",
   "source": "# 数据的运算",
   "id": "4d747d7817f8615d"
  },
  {
   "metadata": {
    "ExecuteTime": {
     "end_time": "2025-03-10T03:01:03.652564Z",
     "start_time": "2025-03-10T03:01:03.650081Z"
    }
   },
   "cell_type": "code",
   "source": "nd = np.random.randint(low=0,high=100,size=(100,30),dtype=np.int8)",
   "id": "b61441e148f1bfd",
   "outputs": [],
   "execution_count": 57
  },
  {
   "metadata": {
    "ExecuteTime": {
     "end_time": "2025-03-10T03:01:04.942253Z",
     "start_time": "2025-03-10T03:01:04.938092Z"
    }
   },
   "cell_type": "code",
   "source": "nd ** 2",
   "id": "8d3cf7af3fe2b6d1",
   "outputs": [
    {
     "data": {
      "text/plain": [
       "array([[ -92,    0,   68, ...,  -92,    4,  -15],\n",
       "       [  36,   97,   16, ..., -103,  100,   97],\n",
       "       [ -31,  -39,  -79, ...,   65,   97,  -31],\n",
       "       ...,\n",
       "       [  64, -127,   36, ...,    1,  -15,   36],\n",
       "       [  16,  -60,  -15, ..., -112, -112,    0],\n",
       "       [  -7,   16,   97, ...,  -79,    9,   65]],\n",
       "      shape=(100, 30), dtype=int8)"
      ]
     },
     "execution_count": 58,
     "metadata": {},
     "output_type": "execute_result"
    }
   ],
   "execution_count": 58
  },
  {
   "metadata": {},
   "cell_type": "code",
   "outputs": [],
   "execution_count": null,
   "source": "",
   "id": "22c43775b458bd6f"
  },
  {
   "metadata": {},
   "cell_type": "code",
   "outputs": [],
   "execution_count": null,
   "source": "nd / 2",
   "id": "6967bc253732f49b"
  },
  {
   "metadata": {
    "ExecuteTime": {
     "end_time": "2025-03-10T03:02:12.084363Z",
     "start_time": "2025-03-10T03:02:12.081288Z"
    }
   },
   "cell_type": "code",
   "source": "nd + 2",
   "id": "2677cc7a756f438e",
   "outputs": [
    {
     "data": {
      "text/plain": [
       "array([[28, 34, 20, ..., 92,  4, 91],\n",
       "       [72, 81, 62, ..., 61, 12, 51],\n",
       "       [17, 29, 59, ..., 97, 81, 17],\n",
       "       ...,\n",
       "       [26, 65,  8, ...,  3, 91, 72],\n",
       "       [70, 80, 91, ..., 54, 22, 18],\n",
       "       [55, 38, 81, ..., 59,  5, 97]], shape=(100, 30), dtype=int8)"
      ]
     },
     "execution_count": 61,
     "metadata": {},
     "output_type": "execute_result"
    }
   ],
   "execution_count": 61
  },
  {
   "metadata": {
    "ExecuteTime": {
     "end_time": "2025-03-10T03:02:13.537943Z",
     "start_time": "2025-03-10T03:02:13.535Z"
    }
   },
   "cell_type": "code",
   "source": "nd % 2",
   "id": "5019f01d4cab632b",
   "outputs": [
    {
     "data": {
      "text/plain": [
       "array([[0, 0, 0, ..., 0, 0, 1],\n",
       "       [0, 1, 0, ..., 1, 0, 1],\n",
       "       [1, 1, 1, ..., 1, 1, 1],\n",
       "       ...,\n",
       "       [0, 1, 0, ..., 1, 1, 0],\n",
       "       [0, 0, 1, ..., 0, 0, 0],\n",
       "       [1, 0, 1, ..., 1, 1, 1]], shape=(100, 30), dtype=int8)"
      ]
     },
     "execution_count": 62,
     "metadata": {},
     "output_type": "execute_result"
    }
   ],
   "execution_count": 62
  },
  {
   "metadata": {
    "ExecuteTime": {
     "end_time": "2025-03-10T03:02:29.588873Z",
     "start_time": "2025-03-10T03:02:29.584644Z"
    }
   },
   "cell_type": "code",
   "source": "nd // 2",
   "id": "dc2d8a1a6af3fa8f",
   "outputs": [
    {
     "data": {
      "text/plain": [
       "array([[13, 16,  9, ..., 45,  1, 44],\n",
       "       [35, 39, 30, ..., 29,  5, 24],\n",
       "       [ 7, 13, 28, ..., 47, 39,  7],\n",
       "       ...,\n",
       "       [12, 31,  3, ...,  0, 44, 35],\n",
       "       [34, 39, 44, ..., 26, 10,  8],\n",
       "       [26, 18, 39, ..., 28,  1, 47]], shape=(100, 30), dtype=int8)"
      ]
     },
     "execution_count": 63,
     "metadata": {},
     "output_type": "execute_result"
    }
   ],
   "execution_count": 63
  },
  {
   "metadata": {},
   "cell_type": "code",
   "outputs": [],
   "execution_count": null,
   "source": "nd > 50",
   "id": "4a92bd74b6306ec8"
  },
  {
   "metadata": {},
   "cell_type": "code",
   "outputs": [],
   "execution_count": null,
   "source": "nd < 50",
   "id": "5c3fa160244b6ef0"
  },
  {
   "metadata": {},
   "cell_type": "code",
   "outputs": [],
   "execution_count": null,
   "source": "nd >= 50",
   "id": "25a4724bb4cfe706"
  },
  {
   "metadata": {},
   "cell_type": "code",
   "outputs": [],
   "execution_count": null,
   "source": "nd <= 50",
   "id": "aad4773102f955a0"
  },
  {
   "metadata": {},
   "cell_type": "code",
   "outputs": [],
   "execution_count": null,
   "source": "nd == 50",
   "id": "41755dee8ac17776"
  },
  {
   "metadata": {},
   "cell_type": "code",
   "outputs": [],
   "execution_count": null,
   "source": "nd != 50",
   "id": "38f2f41404e64f8"
  },
  {
   "metadata": {},
   "cell_type": "code",
   "outputs": [],
   "execution_count": null,
   "source": "nd & 50",
   "id": "ef63be8d2a804a2f"
  },
  {
   "metadata": {},
   "cell_type": "code",
   "outputs": [],
   "execution_count": null,
   "source": "nd | 50",
   "id": "7f68b9b63a1ae8b2"
  },
  {
   "metadata": {},
   "cell_type": "code",
   "outputs": [],
   "execution_count": null,
   "source": "nd ^ 50",
   "id": "643c769dfdf8f769"
  },
  {
   "metadata": {},
   "cell_type": "code",
   "outputs": [],
   "execution_count": null,
   "source": "nd & 50 | 50",
   "id": "b001b09c3ba5d54b"
  },
  {
   "metadata": {
    "ExecuteTime": {
     "end_time": "2025-03-10T03:02:54.375869Z",
     "start_time": "2025-03-10T03:02:54.372992Z"
    }
   },
   "cell_type": "code",
   "source": "nd & 50^ 50",
   "id": "f2c7a15c04f27691",
   "outputs": [
    {
     "data": {
      "text/plain": [
       "array([[32, 18, 32, ..., 32, 48, 34],\n",
       "       [48, 48,  2, ...,  0, 48,  2],\n",
       "       [48, 32,  2, ..., 32, 48, 48],\n",
       "       ...,\n",
       "       [34,  0, 48, ..., 50, 34, 48],\n",
       "       [50, 48, 34, ...,  2, 34, 34],\n",
       "       [ 2, 18, 48, ...,  2, 48, 32]], shape=(100, 30), dtype=int8)"
      ]
     },
     "execution_count": 64,
     "metadata": {},
     "output_type": "execute_result"
    }
   ],
   "execution_count": 64
  },
  {
   "metadata": {
    "ExecuteTime": {
     "end_time": "2025-03-10T03:09:38.634334Z",
     "start_time": "2025-03-10T03:09:38.632397Z"
    }
   },
   "cell_type": "code",
   "source": [
    "# 如果使用+= -= *=  会讲原来的数据覆盖\n",
    "nd += 50\n",
    "nd -= 50\n",
    "nd *= 50\n",
    "nd //= 50"
   ],
   "id": "b8cc20288b285a9e",
   "outputs": [],
   "execution_count": 70
  },
  {
   "metadata": {},
   "cell_type": "markdown",
   "source": "# 赋值和视图",
   "id": "40ea1d41c8708973"
  },
  {
   "metadata": {
    "ExecuteTime": {
     "end_time": "2025-03-10T03:10:22.089450Z",
     "start_time": "2025-03-10T03:10:22.087242Z"
    }
   },
   "cell_type": "code",
   "source": "nd2 = nd.copy()",
   "id": "6c68f874b321fac",
   "outputs": [],
   "execution_count": 72
  },
  {
   "metadata": {
    "ExecuteTime": {
     "end_time": "2025-03-10T03:10:57.968127Z",
     "start_time": "2025-03-10T03:10:57.964651Z"
    }
   },
   "cell_type": "code",
   "source": [
    "nd3 = np.arange(0,100,dtype=np.int8)\n",
    "\n",
    "nd3"
   ],
   "id": "5172e796106c7e41",
   "outputs": [
    {
     "data": {
      "text/plain": [
       "array([ 0,  1,  2,  3,  4,  5,  6,  7,  8,  9, 10, 11, 12, 13, 14, 15, 16,\n",
       "       17, 18, 19, 20, 21, 22, 23, 24, 25, 26, 27, 28, 29, 30, 31, 32, 33,\n",
       "       34, 35, 36, 37, 38, 39, 40, 41, 42, 43, 44, 45, 46, 47, 48, 49, 50,\n",
       "       51, 52, 53, 54, 55, 56, 57, 58, 59, 60, 61, 62, 63, 64, 65, 66, 67,\n",
       "       68, 69, 70, 71, 72, 73, 74, 75, 76, 77, 78, 79, 80, 81, 82, 83, 84,\n",
       "       85, 86, 87, 88, 89, 90, 91, 92, 93, 94, 95, 96, 97, 98, 99],\n",
       "      dtype=int8)"
      ]
     },
     "execution_count": 74,
     "metadata": {},
     "output_type": "execute_result"
    }
   ],
   "execution_count": 74
  },
  {
   "metadata": {
    "ExecuteTime": {
     "end_time": "2025-03-10T03:11:04.547917Z",
     "start_time": "2025-03-10T03:11:04.546321Z"
    }
   },
   "cell_type": "code",
   "source": "nd3 -= 10\n",
   "id": "2a16b2c96f492fee",
   "outputs": [],
   "execution_count": 75
  },
  {
   "metadata": {
    "ExecuteTime": {
     "end_time": "2025-03-10T03:11:24.795868Z",
     "start_time": "2025-03-10T03:11:24.793540Z"
    }
   },
   "cell_type": "code",
   "source": [
    "nd3 = nd3.view()\n",
    "nd3"
   ],
   "id": "267cfaa6215b8c1f",
   "outputs": [
    {
     "data": {
      "text/plain": [
       "array([-10,  -9,  -8,  -7,  -6,  -5,  -4,  -3,  -2,  -1,   0,   1,   2,\n",
       "         3,   4,   5,   6,   7,   8,   9,  10,  11,  12,  13,  14,  15,\n",
       "        16,  17,  18,  19,  20,  21,  22,  23,  24,  25,  26,  27,  28,\n",
       "        29,  30,  31,  32,  33,  34,  35,  36,  37,  38,  39,  40,  41,\n",
       "        42,  43,  44,  45,  46,  47,  48,  49,  50,  51,  52,  53,  54,\n",
       "        55,  56,  57,  58,  59,  60,  61,  62,  63,  64,  65,  66,  67,\n",
       "        68,  69,  70,  71,  72,  73,  74,  75,  76,  77,  78,  79,  80,\n",
       "        81,  82,  83,  84,  85,  86,  87,  88,  89], dtype=int8)"
      ]
     },
     "execution_count": 78,
     "metadata": {},
     "output_type": "execute_result"
    }
   ],
   "execution_count": 78
  },
  {
   "metadata": {},
   "cell_type": "markdown",
   "source": "# 索引和切片",
   "id": "f2c26dede1727f2b"
  },
  {
   "metadata": {
    "ExecuteTime": {
     "end_time": "2025-03-10T03:14:03.024309Z",
     "start_time": "2025-03-10T03:14:03.020838Z"
    }
   },
   "cell_type": "code",
   "source": [
    "arr = np.random.randint(low=0,high=100,size=100,dtype=np.int8)\n",
    "arr"
   ],
   "id": "a965a1a14d1ecd17",
   "outputs": [
    {
     "data": {
      "text/plain": [
       "array([12,  7, 63,  2,  9, 37, 49, 27, 82, 31, 35, 68, 69, 82, 16, 68, 28,\n",
       "       29, 62, 48, 14, 20,  0, 71, 23, 17, 27, 63, 44, 16, 17, 15, 25, 31,\n",
       "       99, 14, 46, 75, 96, 38, 21, 73, 39, 19, 60, 34, 78, 37, 76, 56, 31,\n",
       "       40, 80, 82, 87, 51, 62, 99, 36, 24,  5, 98, 44, 64,  9, 22, 17, 36,\n",
       "       29, 36, 97, 60, 47, 91,  8, 36, 80, 60, 63, 55, 73, 26, 45, 22, 49,\n",
       "       85, 64, 22, 22, 22, 41, 89, 74, 84, 24, 46,  7, 48, 11, 47],\n",
       "      dtype=int8)"
      ]
     },
     "execution_count": 86,
     "metadata": {},
     "output_type": "execute_result"
    }
   ],
   "execution_count": 86
  },
  {
   "metadata": {
    "ExecuteTime": {
     "end_time": "2025-03-10T03:14:08.170385Z",
     "start_time": "2025-03-10T03:14:08.167504Z"
    }
   },
   "cell_type": "code",
   "source": "arr[[0,3,5]] #索引",
   "id": "22c562fa1af2c023",
   "outputs": [
    {
     "data": {
      "text/plain": [
       "array([12,  2, 37], dtype=int8)"
      ]
     },
     "execution_count": 87,
     "metadata": {},
     "output_type": "execute_result"
    }
   ],
   "execution_count": 87
  },
  {
   "metadata": {
    "ExecuteTime": {
     "end_time": "2025-03-10T03:14:10.842704Z",
     "start_time": "2025-03-10T03:14:10.840239Z"
    }
   },
   "cell_type": "code",
   "source": "arr[3:6] #切片",
   "id": "627a6a7a5c142835",
   "outputs": [
    {
     "data": {
      "text/plain": [
       "array([ 2,  9, 37], dtype=int8)"
      ]
     },
     "execution_count": 88,
     "metadata": {},
     "output_type": "execute_result"
    }
   ],
   "execution_count": 88
  },
  {
   "metadata": {
    "ExecuteTime": {
     "end_time": "2025-03-10T03:14:14.225532Z",
     "start_time": "2025-03-10T03:14:14.222662Z"
    }
   },
   "cell_type": "code",
   "source": "arr[3:6:2] #步长为2",
   "id": "f85c1427995406e8",
   "outputs": [
    {
     "data": {
      "text/plain": [
       "array([ 2, 37], dtype=int8)"
      ]
     },
     "execution_count": 89,
     "metadata": {},
     "output_type": "execute_result"
    }
   ],
   "execution_count": 89
  },
  {
   "metadata": {
    "ExecuteTime": {
     "end_time": "2025-03-10T03:14:27.933320Z",
     "start_time": "2025-03-10T03:14:27.929809Z"
    }
   },
   "cell_type": "code",
   "source": "arr[::3] #步长为3",
   "id": "181c0979aeac53b7",
   "outputs": [
    {
     "data": {
      "text/plain": [
       "array([12,  2, 49, 31, 69, 68, 62, 20, 23, 63, 17, 31, 46, 38, 39, 34, 76,\n",
       "       40, 87, 99,  5, 64, 17, 36, 47, 36, 63, 26, 49, 22, 41, 84,  7, 47],\n",
       "      dtype=int8)"
      ]
     },
     "execution_count": 92,
     "metadata": {},
     "output_type": "execute_result"
    }
   ],
   "execution_count": 92
  },
  {
   "metadata": {
    "ExecuteTime": {
     "end_time": "2025-03-10T03:14:32.594619Z",
     "start_time": "2025-03-10T03:14:32.592057Z"
    }
   },
   "cell_type": "code",
   "source": "arr[::-2] #倒序",
   "id": "b08c1c3f691ee8f7",
   "outputs": [
    {
     "data": {
      "text/plain": [
       "array([47, 48, 46, 84, 89, 22, 22, 85, 22, 26, 55, 60, 36, 91, 60, 36, 36,\n",
       "       22, 64, 98, 24, 99, 51, 82, 40, 56, 37, 34, 19, 73, 38, 75, 14, 31,\n",
       "       15, 16, 63, 17, 71, 20, 48, 29, 68, 82, 68, 31, 27, 37,  2,  7],\n",
       "      dtype=int8)"
      ]
     },
     "execution_count": 93,
     "metadata": {},
     "output_type": "execute_result"
    }
   ],
   "execution_count": 93
  },
  {
   "metadata": {},
   "cell_type": "markdown",
   "source": "## 二维数据的索引和切片\n",
   "id": "2f2b39153f2d2438"
  },
  {
   "metadata": {
    "ExecuteTime": {
     "end_time": "2025-03-10T03:24:00.530883Z",
     "start_time": "2025-03-10T03:24:00.528278Z"
    }
   },
   "cell_type": "code",
   "source": [
    "arr2 = np.random.randint(low=0,high=100,size=(3,5),dtype=np.int8)\n",
    "arr2[0,2]\n"
   ],
   "id": "1f464f0315891b48",
   "outputs": [
    {
     "data": {
      "text/plain": [
       "np.int8(7)"
      ]
     },
     "execution_count": 97,
     "metadata": {},
     "output_type": "execute_result"
    }
   ],
   "execution_count": 97
  },
  {
   "metadata": {
    "ExecuteTime": {
     "end_time": "2025-03-10T03:24:11.688476Z",
     "start_time": "2025-03-10T03:24:11.685837Z"
    }
   },
   "cell_type": "code",
   "source": "arr2[1,[1,2]] #获取第二行 第三列的数据",
   "id": "2f8f265fb420586f",
   "outputs": [
    {
     "data": {
      "text/plain": [
       "array([90, 56], dtype=int8)"
      ]
     },
     "execution_count": 98,
     "metadata": {},
     "output_type": "execute_result"
    }
   ],
   "execution_count": 98
  },
  {
   "metadata": {
    "ExecuteTime": {
     "end_time": "2025-03-10T03:26:16.538834Z",
     "start_time": "2025-03-10T03:26:16.534583Z"
    }
   },
   "cell_type": "code",
   "source": "arr2[[1,2],3:]  #索引和切片配合使用",
   "id": "bb6086c183d50945",
   "outputs": [
    {
     "data": {
      "text/plain": [
       "array([[69, 98],\n",
       "       [ 8, 90]], dtype=int8)"
      ]
     },
     "execution_count": 100,
     "metadata": {},
     "output_type": "execute_result"
    }
   ],
   "execution_count": 100
  },
  {
   "metadata": {},
   "cell_type": "markdown",
   "source": "# 花式索引",
   "id": "7b6a7d37cc02f214"
  },
  {
   "metadata": {
    "ExecuteTime": {
     "end_time": "2025-03-10T03:32:28.107676Z",
     "start_time": "2025-03-10T03:32:28.102877Z"
    }
   },
   "cell_type": "code",
   "source": [
    "arr = np.random.randint(low=0,high=100,size=20)\n",
    "arr"
   ],
   "id": "757dcb43a92ffbb2",
   "outputs": [
    {
     "data": {
      "text/plain": [
       "array([14, 30, 25, 65, 69, 66, 63, 40, 40,  3, 63, 79, 30, 70, 15, 80,  6,\n",
       "       77, 25,  0])"
      ]
     },
     "execution_count": 101,
     "metadata": {},
     "output_type": "execute_result"
    }
   ],
   "execution_count": 101
  },
  {
   "metadata": {
    "ExecuteTime": {
     "end_time": "2025-03-10T03:32:36.183445Z",
     "start_time": "2025-03-10T03:32:36.181177Z"
    }
   },
   "cell_type": "code",
   "source": "arr[[3,5,7]]",
   "id": "7d1c6504c5be7bda",
   "outputs": [
    {
     "data": {
      "text/plain": [
       "array([65, 66, 40])"
      ]
     },
     "execution_count": 102,
     "metadata": {},
     "output_type": "execute_result"
    }
   ],
   "execution_count": 102
  },
  {
   "metadata": {
    "ExecuteTime": {
     "end_time": "2025-03-10T03:33:02.404791Z",
     "start_time": "2025-03-10T03:33:02.402586Z"
    }
   },
   "cell_type": "code",
   "source": [
    "conn = arr >60\n",
    "arr[conn]"
   ],
   "id": "1f3baf3e65521546",
   "outputs": [
    {
     "data": {
      "text/plain": [
       "array([65, 69, 66, 63, 63, 79, 70, 80, 77])"
      ]
     },
     "execution_count": 103,
     "metadata": {},
     "output_type": "execute_result"
    }
   ],
   "execution_count": 103
  },
  {
   "metadata": {
    "ExecuteTime": {
     "end_time": "2025-03-10T03:35:28.078562Z",
     "start_time": "2025-03-10T03:35:28.075859Z"
    }
   },
   "cell_type": "code",
   "source": [
    "# 取出小于30 大于80 的数据\n",
    "con1 = arr <30\n",
    "con2 = arr >70\n",
    "cond1 = con1 | con2 # numpy的 | 相当于or运算\n",
    "cond2 = con1 & con2 # numpy的 &相当于and 运算\n",
    "arr[cond1]"
   ],
   "id": "52dded97d831fc66",
   "outputs": [
    {
     "data": {
      "text/plain": [
       "array([14, 25,  3, 79, 15, 80,  6, 77, 25,  0])"
      ]
     },
     "execution_count": 110,
     "metadata": {},
     "output_type": "execute_result"
    }
   ],
   "execution_count": 110
  },
  {
   "metadata": {
    "ExecuteTime": {
     "end_time": "2025-03-10T03:35:29.807219Z",
     "start_time": "2025-03-10T03:35:29.804874Z"
    }
   },
   "cell_type": "code",
   "source": "arr[cond2]\n",
   "id": "c451a23af6248d2d",
   "outputs": [
    {
     "data": {
      "text/plain": [
       "array([], dtype=int64)"
      ]
     },
     "execution_count": 111,
     "metadata": {},
     "output_type": "execute_result"
    }
   ],
   "execution_count": 111
  }
 ],
 "metadata": {
  "kernelspec": {
   "display_name": "Python 3 (ipykernel)",
   "language": "python",
   "name": "python3"
  },
  "language_info": {
   "codemirror_mode": {
    "name": "ipython",
    "version": 3
   },
   "file_extension": ".py",
   "mimetype": "text/x-python",
   "name": "python",
   "nbconvert_exporter": "python",
   "pygments_lexer": "ipython3",
   "version": "3.13.2"
  }
 },
 "nbformat": 4,
 "nbformat_minor": 5
}
