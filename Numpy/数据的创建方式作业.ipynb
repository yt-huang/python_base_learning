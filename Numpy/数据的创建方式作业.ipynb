{
 "cells": [
  {
   "cell_type": "markdown",
   "id": "d4aad30566dcaf68",
   "metadata": {},
   "source": [
    "# 作业\n",
    "\n",
    "1、创建一个长度为10的一维全为0的ndarray对象，然后让第5个元素等于1\n",
    "\n",
    "2、创建一个元素为从10到49的ndarray对象，间隔是1\n",
    "\n",
    "3、将第2题的所有元素位置反转\n",
    "\n",
    "4、使用np.random.random创建一个10*10的ndarray对象，并打印出最大最小元素\n",
    "\n",
    "5、创建一个10*10的ndarray对象，且矩阵边界全为1，里面全为0\n",
    "\n",
    "6、创建一个每一行都是从0到4的5*5矩阵\n",
    "\n",
    "7、创建一个范围在(0,1)之间的长度为12的等差数列，创建[1,    2,    4,    8,   16,   32,   64,  128,  256,  512, 1024]等比数列。\n",
    "\n",
    "8、创建一个长度为10的正太分布数组np.random.randn并排序\n",
    "\n",
    "9、创建一个长度为10的随机数组并将最大值替换为-100\n",
    "\n",
    "10、如何根据第3列大小顺序来对一个5*5矩阵排序？\n"
   ]
  },
  {
   "cell_type": "code",
   "execution_count": 2,
   "id": "1bbe60ef5a4975d7",
   "metadata": {
    "ExecuteTime": {
     "end_time": "2025-03-10T03:44:04.630586Z",
     "start_time": "2025-03-10T03:44:04.624941Z"
    }
   },
   "outputs": [
    {
     "data": {
      "text/plain": [
       "array([0, 0, 0, 0, 1, 0, 0, 0, 0, 0])"
      ]
     },
     "execution_count": 2,
     "metadata": {},
     "output_type": "execute_result"
    }
   ],
   "source": [
    "#1、创建一个长度为10的一维全为0的ndarray对象，然后让第5个元素等于1\n",
    "import numpy as np\n",
    "arr = np.full(10,0)\n",
    "arr[4] = 1\n",
    "arr"
   ]
  },
  {
   "cell_type": "code",
   "execution_count": 8,
   "id": "152347dbd952e016",
   "metadata": {
    "ExecuteTime": {
     "end_time": "2025-03-10T03:45:47.731263Z",
     "start_time": "2025-03-10T03:45:47.729087Z"
    }
   },
   "outputs": [
    {
     "data": {
      "text/plain": [
       "array([10, 11, 12, 13, 14, 15, 16, 17, 18, 19, 20, 21, 22, 23, 24, 25, 26,\n",
       "       27, 28, 29, 30, 31, 32, 33, 34, 35, 36, 37, 38, 39, 40, 41, 42, 43,\n",
       "       44, 45, 46, 47, 48, 49])"
      ]
     },
     "execution_count": 8,
     "metadata": {},
     "output_type": "execute_result"
    }
   ],
   "source": [
    "# 2、创建一个元素为从10到49的ndarray对象，间隔是1\n",
    "arr = np.arange(10,50,1)\n",
    "arr"
   ]
  },
  {
   "cell_type": "code",
   "execution_count": 9,
   "id": "380591ff43ba31f3",
   "metadata": {
    "ExecuteTime": {
     "end_time": "2025-03-10T03:45:49.149153Z",
     "start_time": "2025-03-10T03:45:49.144598Z"
    }
   },
   "outputs": [
    {
     "data": {
      "text/plain": [
       "array([49, 48, 47, 46, 45, 44, 43, 42, 41, 40, 39, 38, 37, 36, 35, 34, 33,\n",
       "       32, 31, 30, 29, 28, 27, 26, 25, 24, 23, 22, 21, 20, 19, 18, 17, 16,\n",
       "       15, 14, 13, 12, 11, 10])"
      ]
     },
     "execution_count": 9,
     "metadata": {},
     "output_type": "execute_result"
    }
   ],
   "source": [
    "# 3、将第2题的所有元素位置反转\n",
    "arr[::-1]"
   ]
  },
  {
   "cell_type": "code",
   "execution_count": 17,
   "id": "6a5b3097c505cbc2",
   "metadata": {
    "ExecuteTime": {
     "end_time": "2025-03-10T03:47:02.728675Z",
     "start_time": "2025-03-10T03:47:02.726557Z"
    }
   },
   "outputs": [
    {
     "name": "stdout",
     "output_type": "stream",
     "text": [
      "0.9954665944823993\n",
      "0.000618998003475979\n"
     ]
    }
   ],
   "source": [
    "# 4、使用np.random.random创建一个10*10的ndarray对象，并打印出最大最小元素\n",
    "arr = np.random.random((10,10))\n",
    "print(arr.max())\n",
    "print(arr.min())"
   ]
  },
  {
   "cell_type": "code",
   "id": "5a811d088fd00d1c",
   "metadata": {
    "ExecuteTime": {
     "end_time": "2025-03-10T06:31:37.725122Z",
     "start_time": "2025-03-10T06:31:37.719757Z"
    }
   },
   "source": [
    "import numpy as np\n",
    "# 5、创建一个10 * 10的ndarray对象，且矩阵边界全为1，里面全为0\n",
    "arr = np.zeros((10,10))\n",
    "# 6、创建一个每一行都是从0到4的5 * 5\n",
    "arr[0:-1,[0,-1]] = 1\n",
    "# 矩阵\n",
    "#\n",
    "# 7、创建一个范围在(0, 1)\n",
    "# 之间的长度为12的等差数列，创建[1, 2, 4, 8, 16, 32, 64, 128, 256, 512, 1024]\n",
    "# 等比数列。\n",
    "np.set_printoptions(suppress=True)\n",
    "arr = np.logspace(0,10,base=2,num=11)\n",
    "arr\n",
    "#\n",
    "# 8、创建一个长度为10的正太分布数组np.random.randn并排序\n",
    "#\n",
    "\n",
    "# 9、创建一个长度为10的随机数组并将最大值替换为 - 100\n",
    "#\n",
    "arr = np.random.randint(0,100,10)\n",
    "arr1 = np.random.random(100)\n",
    "print(arr1)\n",
    "print(arr.max())\n",
    "arr[arr.argmax()] = 100\n",
    "arr\n",
    "# 10、如何根据第3列大小顺序来对一个5 * 5 矩阵排序？\n",
    "arr = np.random.randint(0,100,(5,5))\n",
    "print(arr)\n",
    "arr = arr[arr[:,2].argsort()]\n",
    "arr\n"
   ],
   "outputs": [
    {
     "name": "stdout",
     "output_type": "stream",
     "text": [
      "[0.4 0.9 1.  0.8 0.4 0.5 0.9 0.2 0.2 0.7 0.6 0.3 0.4 0.  0.2 0.9 0.  0.5\n",
      " 0.7 0.8 0.8 0.9 0.7 0.9 0.9 0.6 0.5 0.6 0.2 0.4 0.8 0.2 0.1 1.  0.2 0.8\n",
      " 0.5 0.8 0.8 0.2 0.8 0.4 0.2 0.4 0.8 0.7 0.4 0.5 0.7 0.  0.5 0.2 0.9 0.6\n",
      " 0.1 1.  0.9 0.4 0.4 0.5 0.5 0.  0.4 0.2 0.5 0.5 0.6 0.7 0.9 0.5 0.7 0.3\n",
      " 0.8 0.3 0.9 0.6 0.3 0.1 0.8 0.6 0.7 0.5 0.2 0.3 0.8 0.7 0.1 0.3 0.3 0.\n",
      " 0.7 0.1 0.9 0.6 1.  1.  0.9 0.9 0.5 0.1]\n",
      "91\n",
      "[[65 20 31 16 76]\n",
      " [67 17 91 12 91]\n",
      " [21 29  7 57 74]\n",
      " [51 94 75 72 70]\n",
      " [28 78 96 66 55]]\n"
     ]
    },
    {
     "data": {
      "text/plain": [
       "array([[21, 29,  7, 57, 74],\n",
       "       [65, 20, 31, 16, 76],\n",
       "       [51, 94, 75, 72, 70],\n",
       "       [67, 17, 91, 12, 91],\n",
       "       [28, 78, 96, 66, 55]])"
      ]
     },
     "execution_count": 62,
     "metadata": {},
     "output_type": "execute_result"
    }
   ],
   "execution_count": 62
  },
  {
   "cell_type": "code",
   "execution_count": null,
   "id": "2649dd33-8dac-40a8-90ac-a7500bfc36f1",
   "metadata": {},
   "outputs": [],
   "source": []
  }
 ],
 "metadata": {
  "kernelspec": {
   "display_name": "Python 3 (ipykernel)",
   "language": "python",
   "name": "python3"
  },
  "language_info": {
   "codemirror_mode": {
    "name": "ipython",
    "version": 3
   },
   "file_extension": ".py",
   "mimetype": "text/x-python",
   "name": "python",
   "nbconvert_exporter": "python",
   "pygments_lexer": "ipython3",
   "version": "3.13.2"
  }
 },
 "nbformat": 4,
 "nbformat_minor": 5
}
